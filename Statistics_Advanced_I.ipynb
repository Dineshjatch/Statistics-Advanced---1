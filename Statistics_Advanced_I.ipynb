{
  "nbformat": 4,
  "nbformat_minor": 0,
  "metadata": {
    "colab": {
      "provenance": []
    },
    "kernelspec": {
      "name": "python3",
      "display_name": "Python 3"
    },
    "language_info": {
      "name": "python"
    }
  },
  "cells": [
    {
      "cell_type": "markdown",
      "source": [
        "# Theory Questions\n",
        "1. What is a random variable in probability theory?\n",
        "- In probability theory, a random variable is a function that assigns a numerical value to each outcome in a sample space of a random experiment.\n",
        "\n",
        "  - \"Random\" means the value depends on the outcome of a chance process.\n",
        "\n",
        "  - \"Variable\" means it can take different values for different outcomes.\n",
        "\n",
        "2. What are the types of random variables?\n",
        "- Types of Random Variables:\n",
        "\n",
        "    - Discrete – Takes countable values (e.g., number of heads in coin tosses). Described by PMF.\n",
        "\n",
        "    - Continuous – Takes uncountably infinite values in a range (e.g., height, time). Described by PDF.\n",
        "\n",
        "    - Mixed – Combination of discrete and continuous parts.\n",
        "\n",
        "3. Difference between Discrete and Continuous random variable?\n",
        "- Difference between Discrete and Continuous Distributions:\n",
        "\n",
        "  - Values taken: Discrete distributions have countable outcomes (finite or countably infinite), while continuous distributions have uncountably infinite outcomes in a range.\n",
        "\n",
        "  - Examples: Discrete – number of heads in 5 coin tosses; Continuous – height, weight, time.\n",
        "\n",
        "  - Probability representation: Discrete uses a Probability Mass Function (PMF), Continuous uses a Probability Density Function (PDF).\n",
        "\n",
        "  - Probability of exact value: In discrete distributions, it can be greater than 0 for some values; in continuous distributions, it is always 0 for any single value.\n",
        "\n",
        "  - Graph type: Discrete is shown as separate bars; Continuous is shown as a smooth curve.\n",
        "\n",
        "4. What is a binomial distribution, and how is it used in probability?\n",
        "- A binomial distribution gives the probability of getting a certain number of successes in a fixed number of independent trials, each with two outcomes (success/failure) and constant probability of success.\n",
        "\n",
        "  Formula: P(X=k) = (k n​) * p^k * (1−p)^n−k\n",
        "\n",
        "  Example: Probability of getting exactly 3 heads in 5 coin tosses.\n",
        "\n",
        "5.  What is the standard normal distribution, and why is it important?\n",
        "- The standard normal distribution is a normal (bell-shaped) distribution with a mean of 0 and a standard deviation of 1.\n",
        "\n",
        "  Importance:\n",
        "\n",
        "  - It’s the base form of the normal distribution, allowing us to compare different datasets by converting values to z-scores.\n",
        "\n",
        "  - Widely used in statistics for hypothesis testing, confidence intervals, and probability calculations.\n",
        "\n",
        "  - Simplifies finding probabilities using standard normal tables.\n",
        "\n",
        "6. What is the Central Limit Theorem (CLT), and why is it critical in statistics?\n",
        "- The Central Limit Theorem (CLT) states that the sampling distribution of the sample mean will be approximately normally distributed, regardless of the population’s distribution, if the sample size is large enough.\n",
        "\n",
        "  Key points:\n",
        "\n",
        "    - Applies to the mean (or sum) of independent, identically distributed random variables.\n",
        "\n",
        "    - As sample size\n",
        "  𝑛\n",
        "  n increases, the sample mean’s distribution approaches a normal distribution with:\n",
        "\n",
        "    Mean = population mean (\n",
        "  𝜇\n",
        "  )\n",
        "\n",
        "    Standard deviation = population standard deviation (\n",
        "  𝜎\n",
        "  ) divided by\n",
        "  root\n",
        "  n\n",
        "    ​\n",
        "\n",
        "  Why it’s critical:\n",
        "\n",
        "    - Allows the use of normal probability techniques even when the population is not normal.\n",
        "\n",
        "    - Forms the foundation for confidence intervals, hypothesis testing, and inferential statistics.\n",
        "\n",
        "7. What is the significance of confidence intervals in statistical analysis?\n",
        "- Confidence intervals (CIs) provide a range of values within which a population parameter (like a mean or proportion) is likely to lie, with a certain level of confidence (e.g., 95%).\n",
        "\n",
        "  Significance:\n",
        "\n",
        "  - Quantifies uncertainty: Shows how precise an estimate from sample data is.\n",
        "\n",
        "  - Guides decisions: Helps determine if results are statistically significant.\n",
        "\n",
        "  - Inference about population: Allows conclusions about the population without measuring everyone.\n",
        "\n",
        "8. What is the concept of expected value in a probability distribution?\n",
        "- The **expected value** (or **mean**) of a probability distribution is the **average value** you would expect if an experiment were repeated many times. It gives a measure of the “center” of the distribution.\n",
        "\n",
        "  **For a discrete random variable $X$:**\n",
        "$$\n",
        "E(X) = \\sum x_i \\cdot P(X = x_i)\n",
        "$$\n",
        "   **For a continuous random variable $X$:**\n",
        "$$\n",
        "E(X) = \\int_{-\\infty}^{\\infty} x \\cdot f(x) \\, dx\n",
        "$$\n",
        "  **Significance:**\n",
        "\n",
        "  * Represents the long-term average outcome.\n",
        "  * Used in decision-making, risk assessment, and statistics.\n",
        "\n",
        "\n"
      ],
      "metadata": {
        "id": "hw4SVYU9-tPk"
      }
    },
    {
      "cell_type": "code",
      "execution_count": null,
      "metadata": {
        "colab": {
          "base_uri": "https://localhost:8080/",
          "height": 509
        },
        "id": "-ZtDNZzI-q63",
        "outputId": "f933dc53-c456-4f12-8bc6-5c9d50eece0e"
      },
      "outputs": [
        {
          "output_type": "stream",
          "name": "stdout",
          "text": [
            "Computed Mean: 50.12\n",
            "Computed Standard Deviation: 5.12\n"
          ]
        },
        {
          "output_type": "display_data",
          "data": {
            "text/plain": [
              "<Figure size 640x480 with 1 Axes>"
            ],
            "image/png": "[encoded data removed]"
          },
          "metadata": {}
        }
      ],
      "source": [
        "#9. Write a Python program to generate 1000 random numbers from a normal distribution with mean = 50 and standard deviation = 5. Compute its mean and standard\n",
        "#   deviation using NumPy, and draw a histogram to visualize the distribution.\n",
        "import numpy as np\n",
        "import matplotlib.pyplot as plt\n",
        "\n",
        "n=1000\n",
        "mean=50\n",
        "std_dev=5\n",
        "\n",
        "data=np.random.normal(mean, std_dev, n)\n",
        "\n",
        "computed_mean=np.mean(data)\n",
        "computed_std_dev=np.std(data)\n",
        "\n",
        "print(f\"Computed Mean: {computed_mean:.2f}\")\n",
        "print(f\"Computed Standard Deviation: {computed_std_dev:.2f}\")\n",
        "\n",
        "plt.hist(data, bins=30, color='blue', edgecolor='black')\n",
        "plt.xlabel('Value')\n",
        "plt.ylabel('Frequency')\n",
        "plt.title('Histogram of Random Numbers')\n",
        "plt.grid(True)\n",
        "plt.show()"
      ]
    },
    {
      "cell_type": "markdown",
      "source": [
        "10. You are working as a data analyst for a retail company. The company has collected daily sales data for 2 years and wants you to identify the overall sales trend. daily_sales = [220, 245, 210, 265, 230, 250, 260, 275, 240, 255, 235, 260, 245, 250, 225, 270, 265, 255, 250, 260]\n",
        "\n",
        "  Explain how you would apply the Central Limit Theorem to estimate the average sales with a 95% confidence interval. Write the Python code to compute the mean sales and its confidence interval\n",
        "- ### **Applying the Central Limit Theorem (CLT)**\n",
        "\n",
        "1. **CLT Concept:**\n",
        "\n",
        "   * Even if the daily sales data are not normally distributed, the **sampling distribution of the sample mean** will approximate a normal distribution if the sample size is reasonably large.\n",
        "   * This allows us to calculate **confidence intervals** for the mean sales.\n",
        "\n",
        "2. **Steps to estimate average sales with 95% confidence interval:**\n",
        "\n",
        "   * Compute the **sample mean** ($\\bar{x}$) and **sample standard deviation** ($s$) of the daily sales.\n",
        "   * Use the **t-distribution** (because sample size is small, $n<30$) to compute the **margin of error**:\n",
        "\n",
        "     $$\n",
        "     \\text{Margin of Error} = t_{\\alpha/2, n-1} \\times \\frac{s}{\\sqrt{n}}\n",
        "     $$\n",
        "   * The **95% confidence interval** is:\n",
        "\n",
        "     $$\n",
        "     \\bar{x} \\pm \\text{Margin of Error}\n",
        "     $$\n",
        "\n",
        "---"
      ],
      "metadata": {
        "id": "2jzcY9lBMTp1"
      }
    },
    {
      "cell_type": "code",
      "source": [
        "\n",
        "import numpy as np\n",
        "from scipy import stats\n",
        "daily_sales = [220, 245, 210, 265, 230, 250, 260, 275, 240, 255, 235, 260, 245, 250, 225, 270, 265, 255, 250, 260]\n",
        "\n",
        "n=len(daily_sales)\n",
        "\n",
        "mean_sales=np.mean(daily_sales)\n",
        "std_sales=np.std(daily_sales, ddof=1)\n",
        "\n",
        "confidence =0.95\n",
        "t_value=stats.t.ppf((1+ confidence)/2, df=n-1)\n",
        "margin_of_error=t_value*(std_sales/np.sqrt(n))\n",
        "\n",
        "ci_lower=mean_sales-margin_of_error\n",
        "ci_upper=mean_sales+margin_of_error\n",
        "\n",
        "print(f\"Mean Sales: {mean_sales:.2f}\")\n",
        "print(f\"95% Confidence Interval: ({ci_lower:.2f}, {ci_upper:.2f})\")\n",
        "\n"
      ],
      "metadata": {
        "colab": {
          "base_uri": "https://localhost:8080/"
        },
        "id": "xLXTwMmpKmfE",
        "outputId": "cab881f3-e7f4-434f-dab7-ca2c8262e9f6"
      },
      "execution_count": null,
      "outputs": [
        {
          "output_type": "stream",
          "name": "stdout",
          "text": [
            "Mean Sales: 248.25\n",
            "95% Confidence Interval: (240.17, 256.33)\n"
          ]
        }
      ]
    }
  ]
}